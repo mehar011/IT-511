{
 "cells": [
  {
   "cell_type": "code",
   "execution_count": 13,
   "id": "019c9293",
   "metadata": {},
   "outputs": [
    {
     "data": {
      "text/plain": [
       "13"
      ]
     },
     "execution_count": 13,
     "metadata": {},
     "output_type": "execute_result"
    }
   ],
   "source": [
    "x = 'Hello, how are you'\n",
    "pos = x.find(',')\n",
    "x.find('e',pos)"
   ]
  },
  {
   "cell_type": "code",
   "execution_count": 17,
   "id": "dd154325",
   "metadata": {},
   "outputs": [
    {
     "data": {
      "text/plain": [
       "'how are you'"
      ]
     },
     "execution_count": 17,
     "metadata": {},
     "output_type": "execute_result"
    }
   ],
   "source": [
    "x[pos+1:].strip()"
   ]
  },
  {
   "cell_type": "code",
   "execution_count": 19,
   "id": "d619cb97",
   "metadata": {},
   "outputs": [
    {
     "data": {
      "text/plain": [
       "'Hello, how are you'"
      ]
     },
     "execution_count": 19,
     "metadata": {},
     "output_type": "execute_result"
    }
   ],
   "source": [
    "x[0]"
   ]
  },
  {
   "cell_type": "code",
   "execution_count": 21,
   "id": "e280ac74",
   "metadata": {},
   "outputs": [
    {
     "data": {
      "text/plain": [
       "'Hello'"
      ]
     },
     "execution_count": 21,
     "metadata": {},
     "output_type": "execute_result"
    }
   ],
   "source": [
    "x[0:pos]"
   ]
  },
  {
   "cell_type": "code",
   "execution_count": 22,
   "id": "6abf3f4d",
   "metadata": {},
   "outputs": [
    {
     "data": {
      "text/plain": [
       "'danijutt9119'"
      ]
     },
     "execution_count": 22,
     "metadata": {},
     "output_type": "execute_result"
    }
   ],
   "source": [
    "x = 'danijutt9119@gmail.com'\n",
    "pos = x.find('@')\n",
    "x[:pos]"
   ]
  },
  {
   "cell_type": "code",
   "execution_count": null,
   "id": "db21b52f",
   "metadata": {},
   "outputs": [],
   "source": []
  }
 ],
 "metadata": {
  "kernelspec": {
   "display_name": "Python 3 (ipykernel)",
   "language": "python",
   "name": "python3"
  },
  "language_info": {
   "codemirror_mode": {
    "name": "ipython",
    "version": 3
   },
   "file_extension": ".py",
   "mimetype": "text/x-python",
   "name": "python",
   "nbconvert_exporter": "python",
   "pygments_lexer": "ipython3",
   "version": "3.11.4"
  }
 },
 "nbformat": 4,
 "nbformat_minor": 5
}
