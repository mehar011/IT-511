{
 "cells": [
  {
   "cell_type": "code",
   "execution_count": 1,
   "id": "d4f979ee",
   "metadata": {},
   "outputs": [
    {
     "name": "stdout",
     "output_type": "stream",
     "text": [
      "{'dani': 2, 'shami': 2, 'awais': 1, 'hassan': 2}\n"
     ]
    }
   ],
   "source": [
    "counts = dict()\n",
    "names= ['dani','shami','dani','awais','shami','hassan','hassan']\n",
    "for name in names:\n",
    "    if name not in counts:\n",
    "        counts[name]=1\n",
    "    else :\n",
    "        counts[name]=counts[name]+1\n",
    "print (counts)"
   ]
  },
  {
   "cell_type": "code",
   "execution_count": 4,
   "id": "154080e3",
   "metadata": {},
   "outputs": [
    {
     "name": "stdout",
     "output_type": "stream",
     "text": [
      "counting...\n",
      "count {'hello': 2, 'how': 2, 'are': 4, 'you': 4, 'im': 3, 'fine': 2, 'too': 1, 'what': 2, 'doing': 2, 'working': 1, 'on': 2, 'laptop': 2}\n"
     ]
    }
   ],
   "source": [
    "count = dict()\n",
    "line = input('Enter a line')\n",
    "words = line.split()\n",
    "\n",
    "print ('counting...')\n",
    "for word in words:\n",
    "    count[word] = count.get(word,0) + 1\n",
    "print ('count',count)"
   ]
  },
  {
   "cell_type": "code",
   "execution_count": null,
   "id": "948321d4",
   "metadata": {},
   "outputs": [],
   "source": [
    "count = dict()\n",
    "print('')\n",
    "line = input('')\n",
    "\n",
    "\n",
    "words = line.split()\n",
    "\n",
    "print ('counting...')\n",
    "for word in words:\n",
    "    count [words] = count.get(word,0) + 1\n",
    "print ('count',counts)"
   ]
  },
  {
   "cell_type": "code",
   "execution_count": null,
   "id": "70ddde9a",
   "metadata": {},
   "outputs": [],
   "source": [
    "count = dict()\n",
    "\n",
    "print('')\n",
    "line = input('')\n",
    "\n",
    "\n",
    "words = line.split()\n",
    "\n",
    "print ('counting...')\n",
    "for word in words:\n",
    "    count [words] = count.get(word,0) + 1\n",
    "print ('count',counts)\n"
   ]
  },
  {
   "cell_type": "code",
   "execution_count": null,
   "id": "329caa6a",
   "metadata": {},
   "outputs": [],
   "source": [
    "count = dict()\n",
    "print('')\n",
    "line = input('')\n",
    "\n",
    "\n",
    "words = line.split()\n",
    "\n",
    "print ('counting...')\n",
    "for word in words:\n",
    "    count [words] = count.get(word,0) + 1\n",
    "print ('count',counts)\n"
   ]
  },
  {
   "cell_type": "code",
   "execution_count": 22,
   "id": "74471c9c",
   "metadata": {},
   "outputs": [
    {
     "name": "stdout",
     "output_type": "stream",
     "text": [
      "{'Video': 2, 'provides': 4, 'a': 12, 'powerful': 2, 'way': 3, 'to': 11, 'help': 3, 'you': 20, 'prove': 2, 'your': 10, 'point.': 2, 'When': 5, 'click': 6, 'Online': 2, 'Video,': 2, 'can': 7, 'paste': 2, 'in': 5, 'the': 16, 'embed': 2, 'code': 2, 'for': 5, 'video': 4, 'want': 4, 'add.': 2, 'You': 3, 'also': 3, 'type': 2, 'keyword': 2, 'search': 2, 'online': 2, 'that': 5, 'best': 2, 'fits': 3, 'document.': 2, 'To': 3, 'make': 2, 'document': 4, 'look': 2, 'professionally': 2, 'produced,': 2, 'Word': 4, 'header,': 4, 'footer,': 2, 'cover': 4, 'page,': 4, 'and': 11, 'text': 3, 'box': 2, 'designs': 2, 'complement': 2, 'each': 2, 'other.': 2, 'For': 2, 'example,': 2, 'add': 3, 'matching': 2, 'sidebar.': 2, 'Click': 1, 'Insert': 1, 'then': 2, 'choose': 2, 'elements': 1, 'from': 1, 'different': 1, 'galleries.': 1, 'Themes': 1, 'styles': 1, 'keep': 1, 'coordinated.': 1, 'Design': 1, 'new': 5, 'Theme,': 1, 'pictures,': 1, 'charts,': 1, 'SmartArt': 1, 'graphics': 1, 'change': 3, 'match': 2, 'theme.': 2, 'apply': 1, 'styles,': 1, 'headings': 1, 'Save': 1, 'time': 1, 'with': 1, 'buttons': 1, 'show': 1, 'up': 1, 'where': 3, 'need': 2, 'them.': 1, 'picture': 1, 'document,': 1, 'it': 1, 'button': 1, 'layout': 1, 'options': 1, 'appears': 1, 'next': 1, 'it.': 1, 'work': 1, 'on': 3, 'table,': 1, 'row': 1, 'or': 1, 'column,': 1, 'plus': 1, 'sign.': 1, 'Reading': 2, 'is': 1, 'easier,': 1, 'too,': 1, 'view.': 1, 'collapse': 1, 'parts': 1, 'of': 1, 'focus': 1, 'want.': 1, 'If': 1, 'stop': 1, 'reading': 1, 'before': 1, 'reach': 1, 'end,': 1, 'remembers': 1, 'left': 1, 'off': 1, '-': 1, 'even': 1, 'another': 1, 'device.': 1}\n",
      "Most common word is \" you \" it is used  20 times\n"
     ]
    }
   ],
   "source": [
    "name = r'C:\\Users\\hp\\text random.txt'\n",
    "handle = open(name)\n",
    "text = handle.read()\n",
    "words = text.split()\n",
    "count = dict()\n",
    "for word in words:\n",
    "    count[word] = count.get(word,0)+1\n",
    "\n",
    "maxWord = ''\n",
    "maxCount = 0\n",
    "for word in count:\n",
    "    if int(count[word])>maxCount:\n",
    "        maxCount = count[word]\n",
    "        maxWord = word\n",
    "print(count)\n",
    "print('Most common word is \"',maxWord,'\" it is used ',maxCount,'times')\n"
   ]
  },
  {
   "cell_type": "code",
   "execution_count": null,
   "id": "c4916653",
   "metadata": {},
   "outputs": [],
   "source": []
  }
 ],
 "metadata": {
  "kernelspec": {
   "display_name": "Python 3 (ipykernel)",
   "language": "python",
   "name": "python3"
  },
  "language_info": {
   "codemirror_mode": {
    "name": "ipython",
    "version": 3
   },
   "file_extension": ".py",
   "mimetype": "text/x-python",
   "name": "python",
   "nbconvert_exporter": "python",
   "pygments_lexer": "ipython3",
   "version": "3.10.11"
  }
 },
 "nbformat": 4,
 "nbformat_minor": 5
}
